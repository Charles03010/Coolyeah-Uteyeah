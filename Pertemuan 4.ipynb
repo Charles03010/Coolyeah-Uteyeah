{
  "nbformat": 4,
  "nbformat_minor": 0,
  "metadata": {
    "colab": {
      "provenance": [],
      "include_colab_link": true
    },
    "kernelspec": {
      "name": "python3",
      "display_name": "Python 3"
    },
    "language_info": {
      "name": "python"
    }
  },
  "cells": [
    {
      "cell_type": "markdown",
      "metadata": {
        "id": "view-in-github",
        "colab_type": "text"
      },
      "source": [
        "<a href=\"https://colab.research.google.com/github/Charles03010/Coolyeah-Uteyeah/blob/PBOPRAK/Pertemuan%204.ipynb\" target=\"_parent\"><img src=\"https://colab.research.google.com/assets/colab-badge.svg\" alt=\"Open In Colab\"/></a>"
      ]
    },
    {
      "cell_type": "markdown",
      "source": [
        "# Apa itu Object Oriented Programming ?\n",
        "\n",
        "+ di python semuannya adalah objek, seperti list, string\n",
        "+ di python, objek disebut dengan class\n",
        "+ OOP itu memungkinkan kita buat objek sendiri, termasuk methods dan atributnya\n",
        "+ setelah mendefinisikan objek,  kita bisa menggunakan methods dan atribut terhadap objek tersebut.\n",
        "+ OOP memungkinkan programmer menciptakan objek mereka sendiri, termasuk methods dan atributnya."
      ],
      "metadata": {
        "id": "Nvrb0gRTRTB4"
      }
    },
    {
      "cell_type": "code",
      "execution_count": null,
      "metadata": {
        "colab": {
          "base_uri": "https://localhost:8080/"
        },
        "id": "eKMqvmbxQ0qb",
        "outputId": "f33f8381-eb9e-4eb2-9e5d-2cd0ce4d9c42"
      },
      "outputs": [
        {
          "output_type": "stream",
          "name": "stdout",
          "text": [
            "<class 'str'>\n"
          ]
        }
      ],
      "source": [
        "print(type('saya adalah string'))"
      ]
    },
    {
      "cell_type": "code",
      "source": [
        "class NamaClass: #harus minimal 1 argumen\n",
        "  def __init__(self, nama_atribut1, nama_atribut2):\n",
        "    self.nama_atribut1 = nama_atribut1\n",
        "    self.nama_atribut2 = nama_atribut2\n",
        "\n",
        "  def nama_method(self):\n",
        "    return #tulis fungsi"
      ],
      "metadata": {
        "id": "eUXShe3GSE-X"
      },
      "execution_count": null,
      "outputs": []
    },
    {
      "cell_type": "markdown",
      "source": [
        "self adalah parameter yang digunakan dalam definisi metode kelas Python untuk merujuk pada instansiasi dari kelas itu sendiri. Dengan kata lain, self adalah cara untuk mengakses dan memanipulasi atribut atau metode dari objek yang dibuat dari kelas tersebut."
      ],
      "metadata": {
        "id": "qk5UhjwaY15o"
      }
    },
    {
      "cell_type": "code",
      "source": [
        "class Person:\n",
        "  def __init__(self, nama, umur):\n",
        "    self.nama = nama\n",
        "    self.umur = umur\n",
        "\n",
        "  def introduce(self):\n",
        "    return f\"Halo nama saya adalah {self.nama} dan umur saya {self.umur} tahun\"\n",
        "\n",
        "  #membuat objek person dari kelas person\n",
        "  person = Person(\"Ilham Rafi\", 21)\n",
        "\n",
        "  #panggil metode introduce dan mengakses atribut person dan umur menggunakan self\n",
        "  print(person.introduce())"
      ],
      "metadata": {
        "colab": {
          "base_uri": "https://localhost:8080/"
        },
        "id": "A-LpPR5OSgKs",
        "outputId": "620716dc-e646-4542-def4-e605cfff6d60"
      },
      "execution_count": null,
      "outputs": [
        {
          "output_type": "stream",
          "name": "stdout",
          "text": [
            "Halo nama saya adalah Ilham Rafi dan umur saya 21 tahun\n"
          ]
        }
      ]
    },
    {
      "cell_type": "markdown",
      "source": [
        "Kode ini adalah adalah contoh yang baik dari penggunaan kelas Python dan konstruktor __init__. Kode tersebut mendefinisikan kelas Person dengan dua atribut: name dan age, dan metode introduce untuk memperkenalkan diri."
      ],
      "metadata": {
        "id": "r3Qxr0LpY7V4"
      }
    },
    {
      "cell_type": "code",
      "source": [
        "class Mahasiswa:\n",
        "  def __init__(self, nama, nim, jurusan):\n",
        "    self.nama = nama\n",
        "    self.nim = nim\n",
        "    self.jurusan = jurusan\n",
        "    #inisialisasi daftar nilai dengan list kosong\n",
        "    self.nilai = []\n",
        "\n",
        "  def tambah_nilai(self, mata_kuliah, nilai):\n",
        "    self.nilai.append((mata_kuliah,nilai))\n",
        "\n",
        "  def rata_rata_nilai(self):\n",
        "    total_nilai = sum(nilai for mata_kuliah, nilai in self.nilai)\n",
        "    rata_rata = total_nilai / len(self.nilai) if self.nilai else 0\n",
        "    return rata_rata\n",
        "\n",
        "  def info(self):\n",
        "    print(f\"Nama : {self.nama}\")\n",
        "    print(f\"NIM : {self.nim}\")\n",
        "    print(f\"Jurusan : {self.jurusan} \")\n",
        "    print(f\"Rata - rata nilai : {self.rata_rata_nilai()}\")"
      ],
      "metadata": {
        "id": "JuU93vfZT2sq"
      },
      "execution_count": null,
      "outputs": []
    },
    {
      "cell_type": "markdown",
      "source": [
        "### contoh penggunaan OOP"
      ],
      "metadata": {
        "id": "mxQ2Vpu-fABl"
      }
    },
    {
      "cell_type": "code",
      "source": [
        "# contoh penggunaan OOP\n",
        "mahasiswa1 = Mahasiswa(\"Budi\", 5200411034, \"informatika\")\n",
        "mahasiswa1.tambah_nilai(\"APTI\", 85)\n",
        "mahasiswa1.tambah_nilai(\"Algoritma Pemrograman Praktik\", 65)\n",
        "mahasiswa1.tambah_nilai(\"PBO\", 70)\n",
        "mahasiswa1.info()"
      ],
      "metadata": {
        "colab": {
          "base_uri": "https://localhost:8080/"
        },
        "id": "A8xaxKadVCNA",
        "outputId": "af4bc5f6-6d13-4702-987f-cd06e32a22fb"
      },
      "execution_count": null,
      "outputs": [
        {
          "output_type": "stream",
          "name": "stdout",
          "text": [
            "Nama : Budi\n",
            "NIM : 5200411034\n",
            "Jurusan : informatika \n",
            "Rata - rata nilai : 73.33333333333333\n"
          ]
        }
      ]
    },
    {
      "cell_type": "markdown",
      "source": [
        "\n",
        "+ Dalam pemrograman berorientasi objek (OOP) di Python, __init__ adalah sebuah metode khusus (atau konstruktor) yang digunakan untuk menginisialisasi objek yang baru diciptakan dari sebuah kelas. Metode __init__ akan otomatis dipanggil ketika Anda membuat instansiasi (membuat objek baru) dari kelas tersebut.\n",
        "\n",
        "+ Dalam contoh di atas, ketika mhs1 dibuat, __init__ akan otomatis dipanggil, dan self akan merujuk pada objek mhs1 yang baru dibuat. self.nama, self.nim, dan self.jurusan adalah atribut dari objek mhs1 yang diinisialisasi dengan nilai yang diberikan saat objek diciptakan.\n",
        "\n",
        "+ Dengan menggunakan __init__, Anda dapat memastikan bahwa setiap objek dari kelas memiliki atribut yang diinisialisasi dengan nilai yang benar saat objek tersebut dibuat.\n",
        "\n",
        "+ Penting untuk diingat bahwa nama __init__ adalah nama yang telah ditetapkan dan tidak dapat diubah. Inilah mengapa metode ini disebut metode khusus.\n",
        "\n",
        "+ Jika Anda membuat metode lain di dalam kelas, Anda akan perlu menyertakan self sebagai parameter pertama untuk memberi tahu Python bahwa metode tersebut beroperasi pada objek yang terkait dengan kelas tersebut. Misalnya: def metode_lain(self, arg1, arg2)\n",
        "\n",
        "+ Dalam metode lain, self akan merujuk pada objek yang memanggil metode tersebut. Jadi, Anda dapat mengakses atribut atau metode lain dari objek tersebut menggunakan self."
      ],
      "metadata": {
        "id": "CiyyGDxTYYtI"
      }
    },
    {
      "cell_type": "markdown",
      "source": [
        "#Implementasi Hal 14"
      ],
      "metadata": {
        "id": "uwjUVmiqXua0"
      }
    },
    {
      "cell_type": "code",
      "source": [
        "class Anjing:\n",
        "    def __init__(self, nama, umur, warna):\n",
        "        self.nama = nama\n",
        "        self.umur = umur\n",
        "        self.warna = warna\n",
        "\n",
        "    def menggonggong(self):\n",
        "        print(f\"{self.nama} guk.....guk!\")\n",
        "\n",
        "    def info(self):\n",
        "        return f\"Nama anjing = {self.nama}, umurnya = {str(self.umur)} tahun, warnanya = {str(self.warna)}\"\n",
        "\n",
        "    def berlari(self):\n",
        "        print(f\"{self.nama} cepattt..... sekalii !!\")"
      ],
      "metadata": {
        "id": "1etEC2Z-ZFp3"
      },
      "execution_count": null,
      "outputs": []
    },
    {
      "cell_type": "markdown",
      "source": [
        "### contoh penggunaan OOP"
      ],
      "metadata": {
        "id": "ogJNq0Bje51V"
      }
    },
    {
      "cell_type": "code",
      "source": [
        "# Membuat objek Anjing\n",
        "anjing1 = Anjing(\"whitemoon\", 5, \"putih\")\n",
        "anjing2 = Anjing(\"Rocky\", 3, \"hitam\")\n",
        "\n",
        "# Memanggil metode-metode\n",
        "anjing1.menggonggong()\n",
        "info_anjing1 = anjing1.info()\n",
        "print(info_anjing1)\n",
        "anjing1.berlari()\n",
        "\n",
        "anjing2.menggonggong()\n",
        "info_anjing2 = anjing2.info()\n",
        "print(info_anjing2)\n",
        "anjing2.berlari()"
      ],
      "metadata": {
        "colab": {
          "base_uri": "https://localhost:8080/"
        },
        "id": "EhgvpyYFcgLr",
        "outputId": "a7ad3642-e074-4357-8b08-697667988a98"
      },
      "execution_count": null,
      "outputs": [
        {
          "output_type": "stream",
          "name": "stdout",
          "text": [
            "whitemoon guk.....guk!\n",
            "Nama anjing = whitemoon, umurnya = 5 tahun, warnanya = putih\n",
            "whitemoon cepattt..... sekalii !!\n",
            "Rocky guk.....guk!\n",
            "Nama anjing = Rocky, umurnya = 3 tahun, warnanya = hitam\n",
            "Rocky cepattt..... sekalii !!\n"
          ]
        }
      ]
    },
    {
      "cell_type": "code",
      "source": [
        "class Menu:\n",
        "    def __init__(self, nama, deskripsi, harga):\n",
        "        self.nama = nama\n",
        "        self.deskripsi = deskripsi\n",
        "        self.harga = harga\n",
        "\n",
        "    def dipesan(self):\n",
        "        print(f\"Menu {self.nama} telah dipesan.\")\n",
        "        print(f\"Deskripsi: {self.deskripsi}\")\n",
        "        print(f\"Harga: {self.harga} USD\")\n",
        "\n",
        "# Contoh penggunaan\n",
        "menu1 = Menu(\"Nasi Goreng\", \"Nasi goreng dengan telur dan sayuran\", 10)\n",
        "menu2 = Menu(\"Mie Ayam\", \"Mie dengan potongan ayam dan pangsit\", 8)\n",
        "\n",
        "menu1.dipesan()\n",
        "menu2.dipesan()"
      ],
      "metadata": {
        "colab": {
          "base_uri": "https://localhost:8080/"
        },
        "id": "GXuyrr4hf481",
        "outputId": "5c907f10-8811-4900-cfe7-65649488519a"
      },
      "execution_count": null,
      "outputs": [
        {
          "output_type": "stream",
          "name": "stdout",
          "text": [
            "Menu Nasi Goreng telah dipesan.\n",
            "Deskripsi: Nasi goreng dengan telur dan sayuran\n",
            "Harga: 10 USD\n",
            "Menu Mie Ayam telah dipesan.\n",
            "Deskripsi: Mie dengan potongan ayam dan pangsit\n",
            "Harga: 8 USD\n"
          ]
        }
      ]
    },
    {
      "cell_type": "code",
      "source": [
        "class Buku:\n",
        "    def __init__(self, judul, pengarang, tahun_terbit):\n",
        "        self.judul = judul\n",
        "        self.pengarang = pengarang\n",
        "        self.tahun_terbit = tahun_terbit\n",
        "        self.status_pinjam = False\n",
        "\n",
        "    def dipinjam(self):\n",
        "        if not self.status_pinjam:\n",
        "            self.status_pinjam = True\n",
        "            print(f\"Buku '{self.judul}' telah dipinjam.\")\n",
        "        else:\n",
        "            print(f\"Buku '{self.judul}' sudah dipinjam sebelumnya.\")\n",
        "\n",
        "    def dikembalikan(self):\n",
        "        if self.status_pinjam:\n",
        "            self.status_pinjam = False\n",
        "            print(f\"Buku '{self.judul}' telah dikembalikan.\")\n",
        "        else:\n",
        "            print(f\"Buku '{self.judul}' tidak sedang dipinjam.\")\n",
        "\n",
        "# Contoh penggunaan\n",
        "buku1 = Buku(\"Harry Potter\", \"J.K. Rowling\", 1997)\n",
        "buku2 = Buku(\"To Kill a Mockingbird\", \"Harper Lee\", 1960)\n",
        "\n",
        "buku1.dipinjam()\n",
        "buku2.dipinjam()\n",
        "buku1.dikembalikan()\n",
        "buku2.dikembalikan()\n",
        "buku1.dikembalikan()"
      ],
      "metadata": {
        "colab": {
          "base_uri": "https://localhost:8080/"
        },
        "id": "k8af-1-tgHYk",
        "outputId": "2375e403-92e0-4851-e109-2279e69d7ddd"
      },
      "execution_count": null,
      "outputs": [
        {
          "output_type": "stream",
          "name": "stdout",
          "text": [
            "Buku 'Harry Potter' telah dipinjam.\n",
            "Buku 'To Kill a Mockingbird' telah dipinjam.\n",
            "Buku 'Harry Potter' telah dikembalikan.\n",
            "Buku 'To Kill a Mockingbird' telah dikembalikan.\n",
            "Buku 'Harry Potter' tidak sedang dipinjam.\n"
          ]
        }
      ]
    },
    {
      "cell_type": "code",
      "source": [
        "import math\n",
        "\n",
        "class Garis:\n",
        "    def __init__(self, x, y):\n",
        "        self.x = x\n",
        "        self.y = y\n",
        "\n",
        "    def rotasi(self, sudut):\n",
        "        # Rumus rotasi: x' = x*cos(theta) - y*sin(theta), y' = x*sin(theta) + y*cos(theta)\n",
        "        x_baru = self.x * math.cos(math.radians(sudut)) - self.y * math.sin(math.radians(sudut))\n",
        "        y_baru = self.x * math.sin(math.radians(sudut)) + self.y * math.cos(math.radians(sudut))\n",
        "        return Garis(x_baru, y_baru)\n",
        "\n",
        "    def translasi(self, delta_x, delta_y):\n",
        "        x_baru = self.x + delta_x\n",
        "        y_baru = self.y + delta_y\n",
        "        return Garis(x_baru, y_baru)\n",
        "\n",
        "# Contoh penggunaan\n",
        "garis_awal = Garis(7, 8)\n",
        "\n",
        "garis_rotasi = garis_awal.rotasi(45)\n",
        "garis_translasi = garis_awal.translasi(1, 2)\n",
        "\n",
        "print(f\"Garis Awal: x={garis_awal.x}, y={garis_awal.y}\")\n",
        "print(f\"Garis setelah Rotasi: x={garis_rotasi.x}, y={garis_rotasi.y}\")\n",
        "print(f\"Garis setelah Translasi: x={garis_translasi.x}, y={garis_translasi.y}\")"
      ],
      "metadata": {
        "colab": {
          "base_uri": "https://localhost:8080/"
        },
        "id": "XAkWhd93gIX_",
        "outputId": "429fac97-7666-4ba9-b123-29fdb6c6b3ed"
      },
      "execution_count": null,
      "outputs": [
        {
          "output_type": "stream",
          "name": "stdout",
          "text": [
            "Garis Awal: x=7, y=8\n",
            "Garis setelah Rotasi: x=-0.707106781186547, y=10.606601717798213\n",
            "Garis setelah Translasi: x=8, y=10\n"
          ]
        }
      ]
    }
  ]
}