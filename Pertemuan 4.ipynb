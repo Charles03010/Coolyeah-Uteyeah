{
  "nbformat": 4,
  "nbformat_minor": 0,
  "metadata": {
    "colab": {
      "provenance": [],
      "authorship_tag": "ABX9TyPF2sBc4iRIPIiasbEvr6N5",
      "include_colab_link": true
    },
    "kernelspec": {
      "name": "python3",
      "display_name": "Python 3"
    },
    "language_info": {
      "name": "python"
    }
  },
  "cells": [
    {
      "cell_type": "markdown",
      "metadata": {
        "id": "view-in-github",
        "colab_type": "text"
      },
      "source": [
        "<a href=\"https://colab.research.google.com/github/Charles03010/Coolyeah-Uteyeah/blob/PBOPRAK/Pertemuan%204.ipynb\" target=\"_parent\"><img src=\"https://colab.research.google.com/assets/colab-badge.svg\" alt=\"Open In Colab\"/></a>"
      ]
    },
    {
      "cell_type": "markdown",
      "source": [
        "# Apa itu object oriented programming ?\n",
        "* di python semuanya adalah objek seperti list, string\n",
        "* di python objek disebut dengan class\n",
        "* OOP itu memungkinkan kita buat objek sendiri termasuk method dan atributnya\n",
        "\n",
        "\n"
      ],
      "metadata": {
        "id": "ePu7gO_6RxUP"
      }
    },
    {
      "cell_type": "code",
      "execution_count": 63,
      "metadata": {
        "colab": {
          "base_uri": "https://localhost:8080/"
        },
        "id": "HlikmQOkRF1N",
        "outputId": "3c34f323-a76c-4245-8c73-8951ca67aaa2"
      },
      "outputs": [
        {
          "output_type": "stream",
          "name": "stdout",
          "text": [
            "<class 'str'>\n"
          ]
        }
      ],
      "source": [
        "print(type(\"Saya adalah String\"))"
      ]
    },
    {
      "cell_type": "code",
      "source": [
        "class NamaClass:\n",
        "  def __init__(self,nama_atribut1,nama_atribut2):\n",
        "    self.nama_atribut1 = nama_atribut1\n",
        "    self.nama_atribut2 = nama_atribut2\n",
        "\n",
        "  def nama_method(self):\n",
        "    return #tulis fungsi\n",
        "\n",
        "class Person:\n",
        "  def __init__(self,nama,umur):\n",
        "    self.nama = nama\n",
        "    self.umur = umur\n",
        "\n",
        "  def introduce(self):\n",
        "    return f\"Halo nama saya adalah {self.nama} dan umur saya {self.umur} tahun\"\n",
        "\n",
        "# membuat objek person dari kelas person\n",
        "person = Person(\"Veranda\",30)\n",
        "\n",
        "# panggil metode introduce dan mengakses atribut person dan umur menggunakan self\n",
        "print(person.introduce())"
      ],
      "metadata": {
        "colab": {
          "base_uri": "https://localhost:8080/"
        },
        "id": "CriCsMhYS5dR",
        "outputId": "ed349b7a-aa42-448b-90f5-9a59238ee7cc"
      },
      "execution_count": 64,
      "outputs": [
        {
          "output_type": "stream",
          "name": "stdout",
          "text": [
            "Halo nama saya adalah Veranda dan umur saya 30 tahun\n"
          ]
        }
      ]
    },
    {
      "cell_type": "code",
      "source": [
        "class Mahasiswa:\n",
        "  def __init__(self,nama,nim,jurusan):\n",
        "    self.nama = nama\n",
        "    self.nim = nim\n",
        "    self.jurusan = jurusan\n",
        "    # inisialisasi daftar nilai dengan list kosong\n",
        "    self.nilai = []\n",
        "\n",
        "  def tambah_nilai(self, mata_kuliah, nilai):\n",
        "    self.nilai.append([mata_kuliah,nilai])\n",
        "\n",
        "  def rata_rata_nilai(self):\n",
        "    total_nilai = sum(nilai for mata_kuliah, nilai in self.nilai)\n",
        "    rata_rata = total_nilai / len(self.nilai) if self.nilai else 0\n",
        "    return rata_rata\n",
        "\n",
        "  def info(self):\n",
        "    print(f\"Nama : {self.nama}\")\n",
        "    print(f\"Nim : {self.nim}\")\n",
        "    print(f\"Jurusan : {self.jurusan}\")\n",
        "    print(f\"Rata-rata nilai : {self.rata_rata_nilai()}\")\n",
        "\n"
      ],
      "metadata": {
        "id": "MymqrJdlU2dK"
      },
      "execution_count": 65,
      "outputs": []
    },
    {
      "cell_type": "code",
      "source": [
        "mahasiswa1 = Mahasiswa(\"Veranda\",5204190893,\"Informatika\")\n",
        "mahasiswa1.tambah_nilai(\"APTI\",90)\n",
        "mahasiswa1.tambah_nilai(\"Algoritma Pemrograman Praktik\",95)\n",
        "mahasiswa1.tambah_nilai(\"PBO\",80)\n",
        "mahasiswa1.info()"
      ],
      "metadata": {
        "colab": {
          "base_uri": "https://localhost:8080/"
        },
        "id": "hubbDOMOW_Bk",
        "outputId": "c63dbf45-7994-4ce5-990f-e50381c06506"
      },
      "execution_count": 66,
      "outputs": [
        {
          "output_type": "stream",
          "name": "stdout",
          "text": [
            "Nama : Veranda\n",
            "Nim : 5204190893\n",
            "Jurusan : Informatika\n",
            "Rata-rata nilai : 88.33333333333333\n"
          ]
        }
      ]
    },
    {
      "cell_type": "code",
      "source": [
        "class Anjing:\n",
        "  def __init__(self,nama,umur,warna):\n",
        "    self.nama = nama\n",
        "    self.umur = umur\n",
        "    self.warna = warna\n",
        "\n",
        "  def menggonggong(self):\n",
        "    print(\"guk ..... guk ....!\")\n",
        "\n",
        "  def info(self):\n",
        "    print(\"Nama anjing = \"+self.nama+\", Umurnya = \"+str(self.umur)+\" tahun, warnanya = \"+str(self.warna))\n",
        "\n",
        "  def berlari(self):\n",
        "    print(\"cepat .... sekali\")\n",
        "\n",
        "anjing1 = Anjing(\"Husky\", 5, \"putih\")\n",
        "anjing1.menggonggong()\n",
        "anjing1.info()\n",
        "anjing1.berlari()\n",
        "\n"
      ],
      "metadata": {
        "id": "ZKx5iHrTYskW",
        "colab": {
          "base_uri": "https://localhost:8080/"
        },
        "outputId": "3b400546-a09e-4fcd-c8da-5eb72ed1526e"
      },
      "execution_count": 67,
      "outputs": [
        {
          "output_type": "stream",
          "name": "stdout",
          "text": [
            "guk ..... guk ....!\n",
            "Nama anjing = Husky, Umurnya = 5 tahun, warnanya = putih\n",
            "cepat .... sekali\n"
          ]
        }
      ]
    },
    {
      "cell_type": "code",
      "source": [
        "class Pelajar:\n",
        "  def __init__(self,noInduk,nama,kelas,gender,tempatLahir,tanggalLahir):\n",
        "    self.noInduk = noInduk\n",
        "    self.nama = nama\n",
        "    self.kelas = kelas\n",
        "    self.gender = gender\n",
        "    self.tempatLahir = tempatLahir\n",
        "    self.tanggalLahir = tanggalLahir\n",
        "\n",
        "  def lulus(self):\n",
        "    print(\"Selamat Kepada :\")\n",
        "    print(f\"{self.nama} dengan nomor induk {self.noInduk}\")\n",
        "    print(\"Anda dinyatakan LULUS !!!\")\n",
        "\n",
        "  def naikKelas(self):\n",
        "    if(self.tempatLahir == \"Jakarta\"):\n",
        "      print(f\"Selamat Anda Naik ke Kelas {self.kelas +1} !!!\")\n",
        "    else:\n",
        "      print(f\"Maaf Anda Tetap di Kelas {self.kelas} !!!\")\n",
        "\n",
        "  def bayarSPP(self):\n",
        "    if(self.gender == \"PeremPuan\"):\n",
        "      print(\"Terima Kasih Anda Sudah Bayar SPP !!!\")\n",
        "    else:\n",
        "      print(\"Anda Belum Bayar SPP !!!\")\n",
        "\n",
        "\n",
        "pelajar1 = Pelajar(190893048,\"Veranda\",5,\"PeremPuan\",\"Jakarta\",\"19 Agustus 1993\")\n",
        "pelajar1.lulus()\n",
        "pelajar1.naikKelas()\n",
        "pelajar1.bayarSPP()"
      ],
      "metadata": {
        "colab": {
          "base_uri": "https://localhost:8080/"
        },
        "id": "2NIQzKJqfVV7",
        "outputId": "0f4705a6-aab6-438f-9b8b-949d0a54046e"
      },
      "execution_count": 68,
      "outputs": [
        {
          "output_type": "stream",
          "name": "stdout",
          "text": [
            "Selamat Kepada :\n",
            "Veranda dengan nomor induk 190893048\n",
            "Anda dinyatakan LULUS !!!\n",
            "Selamat Anda Naik ke Kelas 6 !!!\n",
            "Terima Kasih Anda Sudah Bayar SPP !!!\n"
          ]
        }
      ]
    },
    {
      "cell_type": "code",
      "source": [
        "class Menu:\n",
        "  def __init__(self,nama,deskripsi,harga):\n",
        "    self.nama = nama\n",
        "    self.deskripsi = deskripsi\n",
        "    self.harga = harga\n",
        "\n",
        "  def diPesan(self):\n",
        "    print(f\"Pesanan : {self.nama}\")\n",
        "    print(f\"Deskripsi : {self.deskripsi}\")\n",
        "    print(f\"Harga : {self.harga}\")\n",
        "    print(\"Pesanan diterima !!!\")\n",
        "\n",
        "menu1 = Menu(\"Salad With Peanut Sauce\",\"Berbagai Sayuran Segar yang dipadukan dengan lezatnya saus kacang\",50000)\n",
        "menu1.diPesan()"
      ],
      "metadata": {
        "colab": {
          "base_uri": "https://localhost:8080/"
        },
        "id": "iQrGoUhmgZou",
        "outputId": "893c1c96-d2d1-4c7c-eca8-bd40792be619"
      },
      "execution_count": 69,
      "outputs": [
        {
          "output_type": "stream",
          "name": "stdout",
          "text": [
            "Pesanan : Salad With Peanut Sauce\n",
            "Deskripsi : Berbagai Sayuran Segar yang dipadukan dengan lezatnya saus kacang\n",
            "Harga : 50000\n",
            "Pesanan diterima !!!\n"
          ]
        }
      ]
    },
    {
      "cell_type": "code",
      "source": [
        "class Buku:\n",
        "  def __init__(self,judul,pengarang,tahunTerbit):\n",
        "    self.judul = judul\n",
        "    self.pengarang = pengarang\n",
        "    self.tahunTerbit = tahunTerbit\n",
        "\n",
        "  def diPinjam(self):\n",
        "    print(f\"Peminjaman buku berjudul {self.judul} oleh {self.pengarang} tahun {str(self.tahunTerbit)} berhasil !!!\")\n",
        "\n",
        "  def diKembalikan(self):\n",
        "    print(f\"Pengembalian buku berjudul {self.judul} oleh {self.pengarang} tahun {str(self.tahunTerbit)} berhasil !!!\")\n",
        "\n",
        "buku1 = Buku(\"Habis Gelap Terbitlah Terang\",\"Raden Ajeng Kartini\",2005)\n",
        "buku1.diPinjam()\n",
        "buku1.diKembalikan()"
      ],
      "metadata": {
        "colab": {
          "base_uri": "https://localhost:8080/"
        },
        "id": "LrT2T3dDgtWS",
        "outputId": "6b87e37e-0a34-4e51-ee7a-bd128b300901"
      },
      "execution_count": 70,
      "outputs": [
        {
          "output_type": "stream",
          "name": "stdout",
          "text": [
            "Peminjaman buku berjudul Habis Gelap Terbitlah Terang oleh Raden Ajeng Kartini tahun 2005 berhasil !!!\n",
            "Pengembalian buku berjudul Habis Gelap Terbitlah Terang oleh Raden Ajeng Kartini tahun 2005 berhasil !!!\n"
          ]
        }
      ]
    },
    {
      "cell_type": "code",
      "source": [
        "class Garis:\n",
        "  def __init__(self,x,y):\n",
        "    self.x = x\n",
        "    self.y = y\n",
        "\n",
        "  def rotasi(self):\n",
        "    print(f\"Memutar ke X = {self.x} dan Y = {self.y}\")\n",
        "\n",
        "  def translasi(self):\n",
        "    print(f\"Mentranslasikan ke X = {self.x} dan Y = {self.y}\")\n",
        "garis1 = Garis(48,19)\n",
        "garis1.rotasi()\n",
        "garis1.translasi()"
      ],
      "metadata": {
        "colab": {
          "base_uri": "https://localhost:8080/"
        },
        "id": "vE_sb31WhKcL",
        "outputId": "edf27113-024a-4648-ac17-d78ac2b6185c"
      },
      "execution_count": 71,
      "outputs": [
        {
          "output_type": "stream",
          "name": "stdout",
          "text": [
            "Memutar ke X = 48 dan Y = 19\n",
            "Mentranslasikan ke X = 48 dan Y = 19\n"
          ]
        }
      ]
    }
  ]
}