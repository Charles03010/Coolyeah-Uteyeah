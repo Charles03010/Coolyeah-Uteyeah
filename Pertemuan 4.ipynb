{
  "nbformat": 4,
  "nbformat_minor": 0,
  "metadata": {
    "colab": {
      "provenance": [],
      "authorship_tag": "ABX9TyMGUUATgyk9XyiU+Tu/BfXQ",
      "include_colab_link": true
    },
    "kernelspec": {
      "name": "python3",
      "display_name": "Python 3"
    },
    "language_info": {
      "name": "python"
    }
  },
  "cells": [
    {
      "cell_type": "markdown",
      "metadata": {
        "id": "view-in-github",
        "colab_type": "text"
      },
      "source": [
        "<a href=\"https://colab.research.google.com/github/Charles03010/Coolyeah-Uteyeah/blob/PBOPRAK/Pertemuan%204.ipynb\" target=\"_parent\"><img src=\"https://colab.research.google.com/assets/colab-badge.svg\" alt=\"Open In Colab\"/></a>"
      ]
    },
    {
      "cell_type": "markdown",
      "source": [
        "# Apa itu object oriented programming ?\n",
        "* di python semuanya adalah objek seperti list, string\n",
        "* di python objek disebut dengan class\n",
        "* OOP itu memungkinkan kita buat objek sendiri termasuk method dan atributnya\n",
        "\n",
        "\n"
      ],
      "metadata": {
        "id": "ePu7gO_6RxUP"
      }
    },
    {
      "cell_type": "code",
      "execution_count": 38,
      "metadata": {
        "colab": {
          "base_uri": "https://localhost:8080/"
        },
        "id": "HlikmQOkRF1N",
        "outputId": "9f98c4f2-f922-4d5c-d21b-ac6e471704aa"
      },
      "outputs": [
        {
          "output_type": "stream",
          "name": "stdout",
          "text": [
            "<class 'str'>\n"
          ]
        }
      ],
      "source": [
        "print(type(\"Saya adalah String\"))"
      ]
    },
    {
      "cell_type": "code",
      "source": [
        "class NamaClass:\n",
        "  def __init__(self,nama_atribut1,nama_atribut2):\n",
        "    self.nama_atribut1 = nama_atribut1\n",
        "    self.nama_atribut2 = nama_atribut2\n",
        "\n",
        "  def nama_method(self):\n",
        "    return #tulis fungsi\n",
        "\n",
        "class Person:\n",
        "  def __init__(self,nama,umur):\n",
        "    self.nama = nama\n",
        "    self.umur = umur\n",
        "\n",
        "  def introduce(self):\n",
        "    return f\"Halo nama saya adalah {self.nama} dan umur saya {self.umur} tahun\"\n",
        "\n",
        "# membuat objek person dari kelas person\n",
        "person = Person(\"Veranda\",30)\n",
        "\n",
        "# panggil metode introduce dan mengakses atribut person dan umur menggunakan self\n",
        "print(person.introduce())"
      ],
      "metadata": {
        "colab": {
          "base_uri": "https://localhost:8080/"
        },
        "id": "CriCsMhYS5dR",
        "outputId": "27f2f214-a167-47e8-aab1-7dd579147504"
      },
      "execution_count": 39,
      "outputs": [
        {
          "output_type": "stream",
          "name": "stdout",
          "text": [
            "Halo nama saya adalah Veranda dan umur saya 30 tahun\n"
          ]
        }
      ]
    },
    {
      "cell_type": "code",
      "source": [
        "class Mahasiswa:\n",
        "  def __init__(self,nama,nim,jurusan):\n",
        "    self.nama = nama\n",
        "    self.nim = nim\n",
        "    self.jurusan = jurusan\n",
        "    # inisialisasi daftar nilai dengan list kosong\n",
        "    self.nilai = []\n",
        "\n",
        "  def tambah_nilai(self, mata_kuliah, nilai):\n",
        "    self.nilai.append([mata_kuliah,nilai])\n",
        "\n",
        "  def rata_rata_nilai(self):\n",
        "    total_nilai = sum(nilai for mata_kuliah, nilai in self.nilai)\n",
        "    rata_rata = total_nilai / len(self.nilai) if self.nilai else 0\n",
        "    return rata_rata\n",
        "\n",
        "  def info(self):\n",
        "    print(f\"Nama : {self.nama}\")\n",
        "    print(f\"Nim : {self.nim}\")\n",
        "    print(f\"Jurusan : {self.jurusan}\")\n",
        "    print(f\"Rata-rata nilai : {self.rata_rata_nilai()}\")\n",
        "\n"
      ],
      "metadata": {
        "id": "MymqrJdlU2dK"
      },
      "execution_count": 40,
      "outputs": []
    },
    {
      "cell_type": "code",
      "source": [
        "mahasiswa1 = Mahasiswa(\"Veranda\",5204190893,\"Informatika\")\n",
        "mahasiswa1.tambah_nilai(\"APTI\",90)\n",
        "mahasiswa1.tambah_nilai(\"Algoritma Pemrograman Praktik\",95)\n",
        "mahasiswa1.tambah_nilai(\"PBO\",80)\n",
        "mahasiswa1.info()"
      ],
      "metadata": {
        "colab": {
          "base_uri": "https://localhost:8080/"
        },
        "id": "hubbDOMOW_Bk",
        "outputId": "4f661d80-5a38-4eea-bc9c-a72d015470e7"
      },
      "execution_count": 41,
      "outputs": [
        {
          "output_type": "stream",
          "name": "stdout",
          "text": [
            "Nama : Veranda\n",
            "Nim : 5204190893\n",
            "Jurusan : Informatika\n",
            "Rata-rata nilai : 88.33333333333333\n"
          ]
        }
      ]
    },
    {
      "cell_type": "code",
      "source": [
        "class Anjing:\n",
        "  def __init__(self,nama,umur,warna):\n",
        "    self.nama = nama\n",
        "    self.umur = umur\n",
        "    self.warna = warna\n",
        "\n",
        "  def menggonggong(self):\n",
        "    print(\"guk ..... guk ....!\")\n",
        "\n",
        "  def info(self):\n",
        "    print(\"Nama anjing =\"+self.nama+\",Umurnya = \"+str(self.umur)+\" tahun, warnanya =\"+str(self.warna))\n",
        "\n",
        "  def berlari(self):\n",
        "    print(\"cepat .... sekali\")"
      ],
      "metadata": {
        "id": "ZKx5iHrTYskW"
      },
      "execution_count": 42,
      "outputs": []
    },
    {
      "cell_type": "code",
      "source": [
        "class Pelajar:\n",
        "  def __init__(self,noInduk,nama,kelas,gender,tempatLahir,tanggalLahir):\n",
        "    self.noInduk = noInduk\n",
        "    self.nama = nama\n",
        "    self.kelas = kelas\n",
        "    self.gender = gender\n",
        "    self.tempatLahir = tempatLahir\n",
        "    self.tanggalLahir = tanggalLahir\n",
        "\n",
        "  def lulus(self):\n",
        "    print(\"Selamat Anda Lulus !!!\")\n",
        "\n",
        "  def naikKelas():\n",
        "    print(\"Selamat Anda Naik Kelas !!!\")\n",
        "\n",
        "  def bayarSPP():\n",
        "    print(\"Anda Belum Bayar SPP !!!\")"
      ],
      "metadata": {
        "id": "2NIQzKJqfVV7"
      },
      "execution_count": 43,
      "outputs": []
    },
    {
      "cell_type": "code",
      "source": [
        "class Menu:\n",
        "  def __init__(self,nama,deskripsi,harga):\n",
        "    self.nama = nama\n",
        "    self.deskripsi = deskripsi\n",
        "    self.harga = harga\n",
        "\n",
        "  def diPesan(self):\n",
        "    print(\"Pesanan dicatat !!!\")"
      ],
      "metadata": {
        "id": "iQrGoUhmgZou"
      },
      "execution_count": 44,
      "outputs": []
    },
    {
      "cell_type": "code",
      "source": [
        "class Buku:\n",
        "  def __init__(self,judul,pengarang,tahunTerbit):\n",
        "    self.judul = judul\n",
        "    self.pengarang = pengarang\n",
        "    self.tahunTerbit = tahunTerbit\n",
        "\n",
        "  def diPinjam(self):\n",
        "    print(\"Peminjaman berhasil !!!\")\n",
        "\n",
        "  def diKembalikan(self):\n",
        "    print(\"Pengembalian berhasil !!!\")"
      ],
      "metadata": {
        "id": "LrT2T3dDgtWS"
      },
      "execution_count": 45,
      "outputs": []
    },
    {
      "cell_type": "code",
      "source": [
        "class Garis:\n",
        "  def __init__(self,x,y):\n",
        "    self.x = x\n",
        "    self.y = y\n",
        "\n",
        "  def rotasi(self):\n",
        "    print(\"Memutar ...\")\n",
        "\n",
        "  def transisi(self):\n",
        "    print(\"Memudar\")"
      ],
      "metadata": {
        "id": "vE_sb31WhKcL"
      },
      "execution_count": 46,
      "outputs": []
    }
  ]
}